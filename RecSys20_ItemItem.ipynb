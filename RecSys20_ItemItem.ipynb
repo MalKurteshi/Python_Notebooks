{
 "cells": [
  {
   "cell_type": "markdown",
   "metadata": {},
   "source": [
    "### Item-Item Collaborative Filtering"
   ]
  },
  {
   "cell_type": "code",
   "execution_count": 2,
   "metadata": {},
   "outputs": [],
   "source": [
    "import pandas as pd\n",
    "import numpy as np\n",
    "import random\n",
    "from sklearn.model_selection import KFold\n",
    "from sklearn.model_selection import TimeSeriesSplit\n",
    "from recsys_utils import recsys_load_training_df, recsys_evaluate, recsys_cv_split_single, recsys_cv_split_userid, recsys_cv_split_single_tweetid\n",
    "from sklearn.model_selection import train_test_split\n",
    "import scipy.stats\n",
    "import scipy.spatial\n",
    "from sklearn.metrics import precision_recall_curve, auc, log_loss\n",
    "from math import sqrt\n",
    "import math\n",
    "import warnings\n",
    "import sys\n",
    "from scipy.sparse.linalg import norm\n",
    "from scipy import sparse as sp\n"
   ]
  },
  {
   "cell_type": "markdown",
   "metadata": {},
   "source": [
    "We tried this method with two samples: the first one has 10000 unique tweets and 223470 unique users('engaging_user_id' column) in 226241 ratings; the second one has 78795 unique tweets and 10000 unique users in 80425 ratings. \n",
    "For item-item collaborative filtering we need to have both tweets and users repeated multiple times in our ratings, because for computing similarities between items, we need the target item to be rated by multiple users (i.e we need that tweet id to appear many times in our ratings); and for prediction we need those items in the neighborhood to be rated by the target user (i.e we need the target user to appear many times in our ratings). The first sample covered the condition of a tweet appearing multiple times, the second sample covered the condition of a user appearing multiple times. We did not have any samples that covered both conditions, that is why we cannot expect this method to perform reliably for our case. "
   ]
  },
  {
   "cell_type": "code",
   "execution_count": 3,
   "metadata": {},
   "outputs": [],
   "source": [
    "df = recsys_load_training_df('../Data/training_sample_by_tweet.tsv')\n",
    "#df = recsys_load_training_df('../Data/training_sample.tsv')"
   ]
  },
  {
   "cell_type": "code",
   "execution_count": 4,
   "metadata": {},
   "outputs": [
    {
     "name": "stdout",
     "output_type": "stream",
     "text": [
      "233000\n",
      "10000\n",
      "226241\n",
      "223470\n"
     ]
    }
   ],
   "source": [
    "unique_user_ids = df['engaging_user_id'].append(df['engaged_with_user_id']).unique()\n",
    "unique_user_ids.sort()\n",
    "\n",
    "unique_tweet_ids = df['tweet_id'].unique()\n",
    "unique_tweet_ids.sort()\n",
    "\n",
    "m = len(unique_user_ids)\n",
    "n = len(unique_tweet_ids)\n",
    "print(m)\n",
    "print(n)\n",
    "print(len(df))\n",
    "print(len(df['engaging_user_id'].unique()))\n",
    "\n",
    "userId_to_userIDX = dict(zip(unique_user_ids, range(m)))\n",
    "userIDX_to_userId = dict(zip(range(m), unique_user_ids))\n",
    "\n",
    "tweetId_to_tweetIDX = dict(zip(unique_tweet_ids, range(n)))\n",
    "tweetIDX_to_tweetId = dict(zip(range(n), unique_tweet_ids))"
   ]
  },
  {
   "cell_type": "code",
   "execution_count": 5,
   "metadata": {},
   "outputs": [
    {
     "data": {
      "text/html": [
       "<div>\n",
       "<style scoped>\n",
       "    .dataframe tbody tr th:only-of-type {\n",
       "        vertical-align: middle;\n",
       "    }\n",
       "\n",
       "    .dataframe tbody tr th {\n",
       "        vertical-align: top;\n",
       "    }\n",
       "\n",
       "    .dataframe thead th {\n",
       "        text-align: right;\n",
       "    }\n",
       "</style>\n",
       "<table border=\"1\" class=\"dataframe\">\n",
       "  <thead>\n",
       "    <tr style=\"text-align: right;\">\n",
       "      <th></th>\n",
       "      <th>text_tokens</th>\n",
       "      <th>hashtags</th>\n",
       "      <th>tweet_id</th>\n",
       "      <th>present_media</th>\n",
       "      <th>present_links</th>\n",
       "      <th>present_domains</th>\n",
       "      <th>tweet_type</th>\n",
       "      <th>language</th>\n",
       "      <th>tweet_timestamp</th>\n",
       "      <th>engaged_with_user_id</th>\n",
       "      <th>...</th>\n",
       "      <th>engaging_user_id</th>\n",
       "      <th>engaging_user_follower_count</th>\n",
       "      <th>engaging_user_following_count</th>\n",
       "      <th>engaging_user_is_verified</th>\n",
       "      <th>engaging_user_account_creation</th>\n",
       "      <th>engaged_follows_engaging</th>\n",
       "      <th>reply_timestamp</th>\n",
       "      <th>retweet_timestamp</th>\n",
       "      <th>retweet_with_comment_timestamp</th>\n",
       "      <th>like_timestamp</th>\n",
       "    </tr>\n",
       "  </thead>\n",
       "  <tbody>\n",
       "    <tr>\n",
       "      <th>0</th>\n",
       "      <td>[101, 46242, 40751, 161, 100062, 10107, 10114,...</td>\n",
       "      <td>NaN</td>\n",
       "      <td>4EC1C41302B820B2459337FE31859B16</td>\n",
       "      <td>NaN</td>\n",
       "      <td>[BB79CD318A68247B64F0E0BE7AFD5A92]</td>\n",
       "      <td>[3896E26D12C903F0A00B6B1BE9A9BEA3]</td>\n",
       "      <td>TopLevel</td>\n",
       "      <td>D3164C7FBCF2565DDF915B1B3AEFB1DC</td>\n",
       "      <td>2020-02-11 13:14:01</td>\n",
       "      <td>959F94011E65010724E85D1B5CBAE18F</td>\n",
       "      <td>...</td>\n",
       "      <td>00008C78BF1DDCC9FDCBAFFAF318A175</td>\n",
       "      <td>34</td>\n",
       "      <td>36</td>\n",
       "      <td>False</td>\n",
       "      <td>2018-10-07 00:40:24</td>\n",
       "      <td>False</td>\n",
       "      <td>NaT</td>\n",
       "      <td>NaT</td>\n",
       "      <td>NaT</td>\n",
       "      <td>NaT</td>\n",
       "    </tr>\n",
       "    <tr>\n",
       "      <th>1</th>\n",
       "      <td>[101, 56898, 137, 10741, 24493, 13538, 131, 12...</td>\n",
       "      <td>NaN</td>\n",
       "      <td>CDA46E9A8E12E9FBAD060A8DE875D02C</td>\n",
       "      <td>NaN</td>\n",
       "      <td>NaN</td>\n",
       "      <td>NaN</td>\n",
       "      <td>Retweet</td>\n",
       "      <td>D3164C7FBCF2565DDF915B1B3AEFB1DC</td>\n",
       "      <td>2020-02-10 00:03:46</td>\n",
       "      <td>716ACF42D9D35BE7374C590C525B0440</td>\n",
       "      <td>...</td>\n",
       "      <td>000116FBD3C83C9C457041C99E371B0B</td>\n",
       "      <td>52</td>\n",
       "      <td>150</td>\n",
       "      <td>False</td>\n",
       "      <td>2018-12-21 01:26:23</td>\n",
       "      <td>False</td>\n",
       "      <td>NaT</td>\n",
       "      <td>NaT</td>\n",
       "      <td>NaT</td>\n",
       "      <td>NaT</td>\n",
       "    </tr>\n",
       "    <tr>\n",
       "      <th>2</th>\n",
       "      <td>[101, 56898, 137, 21540, 35826, 10263, 10575, ...</td>\n",
       "      <td>NaN</td>\n",
       "      <td>4589FDB470A435F92AD5023FACB451A2</td>\n",
       "      <td>NaN</td>\n",
       "      <td>NaN</td>\n",
       "      <td>NaN</td>\n",
       "      <td>Retweet</td>\n",
       "      <td>06D61DCBBE938971E1EA0C38BD9B5446</td>\n",
       "      <td>2020-02-12 02:35:53</td>\n",
       "      <td>83C175E35C3244F0F0250571A128EDBA</td>\n",
       "      <td>...</td>\n",
       "      <td>000231681C7F3716348F35C577591DF3</td>\n",
       "      <td>1354</td>\n",
       "      <td>203</td>\n",
       "      <td>False</td>\n",
       "      <td>2012-03-20 22:11:00</td>\n",
       "      <td>True</td>\n",
       "      <td>NaT</td>\n",
       "      <td>NaT</td>\n",
       "      <td>NaT</td>\n",
       "      <td>NaT</td>\n",
       "    </tr>\n",
       "    <tr>\n",
       "      <th>3</th>\n",
       "      <td>[101, 11723, 112, 187, 169, 19826, 10114, 1011...</td>\n",
       "      <td>NaN</td>\n",
       "      <td>427F0CA21434D0E1258165D42F86F3AB</td>\n",
       "      <td>NaN</td>\n",
       "      <td>NaN</td>\n",
       "      <td>NaN</td>\n",
       "      <td>Quote</td>\n",
       "      <td>D3164C7FBCF2565DDF915B1B3AEFB1DC</td>\n",
       "      <td>2020-02-11 04:06:36</td>\n",
       "      <td>C94E03277B7D08A8AE0E7DBCAACEC879</td>\n",
       "      <td>...</td>\n",
       "      <td>00080417F22C1223FFBE7B6622C55CB6</td>\n",
       "      <td>117</td>\n",
       "      <td>2763</td>\n",
       "      <td>False</td>\n",
       "      <td>2014-08-08 06:10:35</td>\n",
       "      <td>False</td>\n",
       "      <td>NaT</td>\n",
       "      <td>NaT</td>\n",
       "      <td>NaT</td>\n",
       "      <td>2020-02-11 06:41:36</td>\n",
       "    </tr>\n",
       "    <tr>\n",
       "      <th>4</th>\n",
       "      <td>[101, 56898, 137, 58442, 15490, 10716, 45389, ...</td>\n",
       "      <td>NaN</td>\n",
       "      <td>853BB89C90CB3AE1462F3F8203EBB644</td>\n",
       "      <td>[Photo]</td>\n",
       "      <td>NaN</td>\n",
       "      <td>NaN</td>\n",
       "      <td>Retweet</td>\n",
       "      <td>022EC308651FACB02794A8147AEE1B78</td>\n",
       "      <td>2020-02-07 14:19:27</td>\n",
       "      <td>8EC11BE3F8DEACEF096ED6AB760A409E</td>\n",
       "      <td>...</td>\n",
       "      <td>0008C05833E31FA1C1102AA71E9E0452</td>\n",
       "      <td>130</td>\n",
       "      <td>260</td>\n",
       "      <td>False</td>\n",
       "      <td>2019-01-22 19:54:08</td>\n",
       "      <td>True</td>\n",
       "      <td>NaT</td>\n",
       "      <td>2020-02-07 14:53:05</td>\n",
       "      <td>NaT</td>\n",
       "      <td>NaT</td>\n",
       "    </tr>\n",
       "  </tbody>\n",
       "</table>\n",
       "<p>5 rows × 24 columns</p>\n",
       "</div>"
      ],
      "text/plain": [
       "                                         text_tokens hashtags  \\\n",
       "0  [101, 46242, 40751, 161, 100062, 10107, 10114,...      NaN   \n",
       "1  [101, 56898, 137, 10741, 24493, 13538, 131, 12...      NaN   \n",
       "2  [101, 56898, 137, 21540, 35826, 10263, 10575, ...      NaN   \n",
       "3  [101, 11723, 112, 187, 169, 19826, 10114, 1011...      NaN   \n",
       "4  [101, 56898, 137, 58442, 15490, 10716, 45389, ...      NaN   \n",
       "\n",
       "                           tweet_id present_media  \\\n",
       "0  4EC1C41302B820B2459337FE31859B16           NaN   \n",
       "1  CDA46E9A8E12E9FBAD060A8DE875D02C           NaN   \n",
       "2  4589FDB470A435F92AD5023FACB451A2           NaN   \n",
       "3  427F0CA21434D0E1258165D42F86F3AB           NaN   \n",
       "4  853BB89C90CB3AE1462F3F8203EBB644       [Photo]   \n",
       "\n",
       "                        present_links                     present_domains  \\\n",
       "0  [BB79CD318A68247B64F0E0BE7AFD5A92]  [3896E26D12C903F0A00B6B1BE9A9BEA3]   \n",
       "1                                 NaN                                 NaN   \n",
       "2                                 NaN                                 NaN   \n",
       "3                                 NaN                                 NaN   \n",
       "4                                 NaN                                 NaN   \n",
       "\n",
       "  tweet_type                          language     tweet_timestamp  \\\n",
       "0   TopLevel  D3164C7FBCF2565DDF915B1B3AEFB1DC 2020-02-11 13:14:01   \n",
       "1    Retweet  D3164C7FBCF2565DDF915B1B3AEFB1DC 2020-02-10 00:03:46   \n",
       "2    Retweet  06D61DCBBE938971E1EA0C38BD9B5446 2020-02-12 02:35:53   \n",
       "3      Quote  D3164C7FBCF2565DDF915B1B3AEFB1DC 2020-02-11 04:06:36   \n",
       "4    Retweet  022EC308651FACB02794A8147AEE1B78 2020-02-07 14:19:27   \n",
       "\n",
       "               engaged_with_user_id  ...                  engaging_user_id  \\\n",
       "0  959F94011E65010724E85D1B5CBAE18F  ...  00008C78BF1DDCC9FDCBAFFAF318A175   \n",
       "1  716ACF42D9D35BE7374C590C525B0440  ...  000116FBD3C83C9C457041C99E371B0B   \n",
       "2  83C175E35C3244F0F0250571A128EDBA  ...  000231681C7F3716348F35C577591DF3   \n",
       "3  C94E03277B7D08A8AE0E7DBCAACEC879  ...  00080417F22C1223FFBE7B6622C55CB6   \n",
       "4  8EC11BE3F8DEACEF096ED6AB760A409E  ...  0008C05833E31FA1C1102AA71E9E0452   \n",
       "\n",
       "   engaging_user_follower_count  engaging_user_following_count  \\\n",
       "0                            34                             36   \n",
       "1                            52                            150   \n",
       "2                          1354                            203   \n",
       "3                           117                           2763   \n",
       "4                           130                            260   \n",
       "\n",
       "   engaging_user_is_verified engaging_user_account_creation  \\\n",
       "0                      False            2018-10-07 00:40:24   \n",
       "1                      False            2018-12-21 01:26:23   \n",
       "2                      False            2012-03-20 22:11:00   \n",
       "3                      False            2014-08-08 06:10:35   \n",
       "4                      False            2019-01-22 19:54:08   \n",
       "\n",
       "   engaged_follows_engaging  reply_timestamp   retweet_timestamp  \\\n",
       "0                     False              NaT                 NaT   \n",
       "1                     False              NaT                 NaT   \n",
       "2                      True              NaT                 NaT   \n",
       "3                     False              NaT                 NaT   \n",
       "4                      True              NaT 2020-02-07 14:53:05   \n",
       "\n",
       "  retweet_with_comment_timestamp      like_timestamp  \n",
       "0                            NaT                 NaT  \n",
       "1                            NaT                 NaT  \n",
       "2                            NaT                 NaT  \n",
       "3                            NaT 2020-02-11 06:41:36  \n",
       "4                            NaT                 NaT  \n",
       "\n",
       "[5 rows x 24 columns]"
      ]
     },
     "execution_count": 5,
     "metadata": {},
     "output_type": "execute_result"
    }
   ],
   "source": [
    "df.head()"
   ]
  },
  {
   "cell_type": "code",
   "execution_count": 6,
   "metadata": {},
   "outputs": [],
   "source": [
    "r_df = pd.concat([df['engaging_user_id'].map(userId_to_userIDX),\n",
    "                 df['tweet_id'].map(tweetId_to_tweetIDX),\n",
    "                 df['reply_timestamp'],\n",
    "                 df['retweet_timestamp'],\n",
    "                 df['retweet_with_comment_timestamp'],\n",
    "                 df['like_timestamp']], axis = 1)\n",
    "\n",
    "cols_to_values = ['reply_timestamp', 'retweet_timestamp', 'retweet_with_comment_timestamp', 'like_timestamp']\n",
    "for col in cols_to_values:\n",
    "    r_df.loc[~r_df[col].isnull(), col] = 1\n",
    "    r_df.loc[r_df[col].isnull(), col] = -1\n"
   ]
  },
  {
   "cell_type": "code",
   "execution_count": 7,
   "metadata": {},
   "outputs": [
    {
     "data": {
      "text/html": [
       "<div>\n",
       "<style scoped>\n",
       "    .dataframe tbody tr th:only-of-type {\n",
       "        vertical-align: middle;\n",
       "    }\n",
       "\n",
       "    .dataframe tbody tr th {\n",
       "        vertical-align: top;\n",
       "    }\n",
       "\n",
       "    .dataframe thead th {\n",
       "        text-align: right;\n",
       "    }\n",
       "</style>\n",
       "<table border=\"1\" class=\"dataframe\">\n",
       "  <thead>\n",
       "    <tr style=\"text-align: right;\">\n",
       "      <th></th>\n",
       "      <th>engaging_user_id</th>\n",
       "      <th>tweet_id</th>\n",
       "      <th>reply_timestamp</th>\n",
       "      <th>retweet_timestamp</th>\n",
       "      <th>retweet_with_comment_timestamp</th>\n",
       "      <th>like_timestamp</th>\n",
       "    </tr>\n",
       "  </thead>\n",
       "  <tbody>\n",
       "    <tr>\n",
       "      <th>0</th>\n",
       "      <td>3</td>\n",
       "      <td>3091</td>\n",
       "      <td>-1</td>\n",
       "      <td>-1</td>\n",
       "      <td>-1</td>\n",
       "      <td>-1</td>\n",
       "    </tr>\n",
       "    <tr>\n",
       "      <th>1</th>\n",
       "      <td>5</td>\n",
       "      <td>8110</td>\n",
       "      <td>-1</td>\n",
       "      <td>-1</td>\n",
       "      <td>-1</td>\n",
       "      <td>-1</td>\n",
       "    </tr>\n",
       "    <tr>\n",
       "      <th>2</th>\n",
       "      <td>10</td>\n",
       "      <td>2769</td>\n",
       "      <td>-1</td>\n",
       "      <td>-1</td>\n",
       "      <td>-1</td>\n",
       "      <td>-1</td>\n",
       "    </tr>\n",
       "    <tr>\n",
       "      <th>3</th>\n",
       "      <td>30</td>\n",
       "      <td>2646</td>\n",
       "      <td>-1</td>\n",
       "      <td>-1</td>\n",
       "      <td>-1</td>\n",
       "      <td>1</td>\n",
       "    </tr>\n",
       "    <tr>\n",
       "      <th>4</th>\n",
       "      <td>37</td>\n",
       "      <td>5212</td>\n",
       "      <td>-1</td>\n",
       "      <td>1</td>\n",
       "      <td>-1</td>\n",
       "      <td>-1</td>\n",
       "    </tr>\n",
       "  </tbody>\n",
       "</table>\n",
       "</div>"
      ],
      "text/plain": [
       "   engaging_user_id  tweet_id reply_timestamp retweet_timestamp  \\\n",
       "0                 3      3091              -1                -1   \n",
       "1                 5      8110              -1                -1   \n",
       "2                10      2769              -1                -1   \n",
       "3                30      2646              -1                -1   \n",
       "4                37      5212              -1                 1   \n",
       "\n",
       "  retweet_with_comment_timestamp like_timestamp  \n",
       "0                             -1             -1  \n",
       "1                             -1             -1  \n",
       "2                             -1             -1  \n",
       "3                             -1              1  \n",
       "4                             -1             -1  "
      ]
     },
     "execution_count": 7,
     "metadata": {},
     "output_type": "execute_result"
    }
   ],
   "source": [
    "r_df.head()"
   ]
  },
  {
   "cell_type": "code",
   "execution_count": 8,
   "metadata": {},
   "outputs": [],
   "source": [
    "res = recsys_cv_split_single_tweetid(r_df)\n",
    "ratings_train = res[0][0]\n",
    "ratings_test = res[0][1]"
   ]
  },
  {
   "cell_type": "code",
   "execution_count": 9,
   "metadata": {},
   "outputs": [
    {
     "name": "stdout",
     "output_type": "stream",
     "text": [
      "(210898, 6)\n",
      "(11100, 6)\n"
     ]
    }
   ],
   "source": [
    "print(ratings_train.shape)\n",
    "print(ratings_test.shape)"
   ]
  },
  {
   "cell_type": "markdown",
   "metadata": {},
   "source": [
    "### Create the Ratings Matrix"
   ]
  },
  {
   "cell_type": "code",
   "execution_count": 10,
   "metadata": {},
   "outputs": [],
   "source": [
    "R_reply = sp.csr_matrix((ratings_train.reply_timestamp.astype('int8'), (ratings_train.engaging_user_id, \n",
    "                                                                     ratings_train.tweet_id)))\n",
    "\n",
    "R_retweet = sp.csr_matrix((ratings_train.retweet_timestamp.astype('int8'), (ratings_train.engaging_user_id, \n",
    "                                                                         ratings_train.tweet_id)))\n",
    "\n",
    "R_retweet_wc = sp.csr_matrix((ratings_train.retweet_with_comment_timestamp.astype('int8'), (ratings_train.engaging_user_id, \n",
    "                                                                               ratings_train.tweet_id))) \n",
    "\n",
    "R_like = sp.csr_matrix((ratings_train.like_timestamp.astype('int8'), (ratings_train.engaging_user_id, \n",
    "                                                                   ratings_train.tweet_id))) "
   ]
  },
  {
   "cell_type": "markdown",
   "metadata": {},
   "source": [
    "### Item to Item Similarities"
   ]
  },
  {
   "cell_type": "code",
   "execution_count": 11,
   "metadata": {},
   "outputs": [],
   "source": [
    "def compute_item_similarities(i_id, R_matrix):\n",
    "    item_sums = R_matrix.sum(axis=0).A1\n",
    "    item_cnts = (R_matrix != 0).sum(axis=0).A1\n",
    "    item_avgs = item_sums / item_cnts\n",
    "    iI = np.empty((n,))\n",
    "    np.seterr(divide='ignore', invalid='ignore')\n",
    "    R_copy = R_matrix.copy()\n",
    "    nz = R_copy.T.nonzero()\n",
    "    R_copy.data = R_copy.data - item_avgs[nz[0]]\n",
    "    u = R_copy[:, i_id].copy()\n",
    "    numerator = R_copy.T.dot(u).A\n",
    "    denominator = norm(u) * np.sqrt(R_copy.T.multiply(R_copy.T).sum(1)).A1\n",
    "    iI = np.ravel(numerator)/denominator\n",
    "    where_are_NaNs = np.isnan(iI)\n",
    "    iI[where_are_NaNs] = 0.0\n",
    "    return iI"
   ]
  },
  {
   "cell_type": "markdown",
   "metadata": {},
   "source": [
    "### Create User Neighborhood"
   ]
  },
  {
   "cell_type": "code",
   "execution_count": 12,
   "metadata": {},
   "outputs": [],
   "source": [
    "R_like_dok = R_like.todok()\n",
    "R_retweet_dok = R_retweet.todok()\n",
    "R_retweet_wc_dok = R_retweet_wc.todok()\n",
    "R_reply_dok = R_reply.todok()"
   ]
  },
  {
   "cell_type": "code",
   "execution_count": 13,
   "metadata": {},
   "outputs": [],
   "source": [
    "k = 5\n",
    "def create_item_neighborhood(u_id, i_id, R_matrix_dok, R_matrix):\n",
    "    nh = {}\n",
    "    iI = compute_item_similarities(i_id, R_matrix)\n",
    "    iI_copy = iI.copy()\n",
    "\n",
    "    iI_sort = np.argsort(iI_copy)[::-1]\n",
    "    i = 0\n",
    "    while len(nh) < k and i < len(iI_sort):\n",
    "        if iI_sort[i] != i_id and (iI_sort[i], u_id) in R_matrix_dok:\n",
    "            nh[iI_sort[i]] = iI[iI_sort[i]].item(0)\n",
    "        i += 1\n",
    "\n",
    "    return nh"
   ]
  },
  {
   "cell_type": "code",
   "execution_count": 14,
   "metadata": {},
   "outputs": [],
   "source": [
    "with_deviations = True\n",
    "\n",
    "def predict_rating_internal(u_id, i_id, R_matrix_dok, R_matrix):\n",
    "    nh = create_item_neighborhood(u_id, i_id, R_matrix_dok, R_matrix)\n",
    "    neighborhood_weighted_avg = 0.\n",
    "    numerator = 0.\n",
    "    denominator = 0.\n",
    "    for v in nh:\n",
    "        numerator += nh[v] * R_matrix[u_id,v]\n",
    "        denominator += np.absolute(nh[v])\n",
    "    if denominator == 0:\n",
    "        neighborhood_weighted_avg = 0.;\n",
    "    else:\n",
    "        neighborhood_weighted_avg = numerator/denominator\n",
    "    prediction = neighborhood_weighted_avg\n",
    "    return prediction"
   ]
  },
  {
   "cell_type": "code",
   "execution_count": 15,
   "metadata": {},
   "outputs": [],
   "source": [
    "matrices = [(R_like, R_like_dok,0), (R_reply, R_reply_dok,1), (R_retweet, R_retweet_dok,2), \n",
    "            (R_retweet_wc, R_retweet_wc_dok,3)]"
   ]
  },
  {
   "cell_type": "code",
   "execution_count": 1,
   "metadata": {},
   "outputs": [],
   "source": [
    "#this takes too much time; won't complete\n",
    "\n",
    "# def recommender_train_predict(df_train, df_test):\n",
    "#     R_reply = sp.csr_matrix((df_train.reply_timestamp.astype('int8'), (df_train.engaging_user_id, \n",
    "#                                                                      df_train.tweet_id)))\n",
    "\n",
    "#     R_retweet = sp.csr_matrix((df_train.retweet_timestamp.astype('int8'), (df_train.engaging_user_id, \n",
    "#                                                                          df_train.tweet_id)))\n",
    "\n",
    "#     R_retweet_wc = sp.csr_matrix((df_train.retweet_with_comment_timestamp.astype('int8'), (df_train.engaging_user_id, \n",
    "#                                                                                df_train.tweet_id)))\n",
    "\n",
    "#     R_like = sp.csr_matrix((df_train.like_timestamp.astype('int8'), (df_train.engaging_user_id, \n",
    "#                                                                    df_train.tweet_id)))\n",
    "    \n",
    "#     print(len(df_train), len(df_test))\n",
    "    \n",
    "#     R_like_dok = R_like.todok()\n",
    "#     R_retweet_dok = R_retweet.todok()\n",
    "#     R_retweet_wc_dok = R_retweet_wc.todok()\n",
    "#     R_reply_dok = R_reply.todok()\n",
    "#     pred_reply = []\n",
    "#     pred_retweet = []\n",
    "#     pred_retweet_wc = []\n",
    "#     pred_like = []\n",
    "#     for idx, row in df_test.iterrows():\n",
    "#         pred_reply += [predict_rating_internal(row['engaging_user_id'], row['tweet_id'], R_reply_dok, R_reply)]\n",
    "#         pred_retweet += [predict_rating_internal(row['engaging_user_id'], row['tweet_id'], R_retweet_dok, R_retweet)]\n",
    "#         pred_retweet_wc += [predict_rating_internal(row['engaging_user_id'], row['tweet_id'] ,R_retweet_wc_dok, R_retweet_wc)]\n",
    "#         pred_like += [predict_rating_internal(row['engaging_user_id'], row['tweet_id'], R_like_dok, R_like)]\n",
    "# #     pred_reply = [predict_rating_internal(row[0],row[1], R_reply_dok, R_reply) for row in df_test.to_numpy().astype(int)]\n",
    "# #     pred_retweet = [predict_rating_internal(row['engaging_user_id'],row['tweet_id'], R_retweet_dok, R_retweet) for row in df_test.to_numpy().astype(int)]\n",
    "# #     pred_retweet_wc = [predict_rating_internal(row['engaging_user_id'],row['tweet_id'], R_retweet_wc_dok, R_retweet_wc) for row in df_test.to_numpy().astype(int)]\n",
    "# #     pred_like = [predict_rating_internal(row['engaging_user_id'],row['tweet_id'], R_like_dok, R_like) for row in df_test.to_numpy().astype(int)]\n",
    "#     print(pred_reply, type(pred_reply))\n",
    "#     return pred_reply, pred_retweet, pred_retweet_wc, pred_like\n",
    "\n",
    "# df_results = recsys_evaluate(r_df, recommender_train_predict, 'mf_random')\n",
    "# df_results"
   ]
  },
  {
   "cell_type": "code",
   "execution_count": 17,
   "metadata": {},
   "outputs": [],
   "source": [
    "for R_sparse, R_dok, index in matrices:\n",
    "    if index == 0:\n",
    "        pred_like = [predict_rating_internal(row[0],row[1], R_dok, R_sparse) for row in ratings_test.to_numpy().astype(int)]\n",
    "    elif index == 1:\n",
    "        pred_reply = [predict_rating_internal(row[0],row[1], R_dok, R_sparse) for row in ratings_test.to_numpy().astype(int)]\n",
    "    elif index == 2:\n",
    "        pred_retweet = [predict_rating_internal(row[0],row[1], R_dok, R_sparse) for row in ratings_test.to_numpy().astype(int)]\n",
    "    elif index == 3:\n",
    "         pred_retweet_wc = [predict_rating_internal(row[0],row[1], R_dok, R_sparse) for row in ratings_test.to_numpy().astype(int)]"
   ]
  },
  {
   "cell_type": "code",
   "execution_count": 27,
   "metadata": {},
   "outputs": [],
   "source": [
    "def compute_prauc(pred, gt):\n",
    "    prec, recall, thresh = precision_recall_curve(gt, pred)\n",
    "    prauc = auc(recall, prec)\n",
    "    return prauc\n",
    "\n",
    "def calculate_ctr(gt):\n",
    "    positive = len([x for x in gt if x == 1])\n",
    "    ctr = positive/float(len(gt))\n",
    "    return ctr\n",
    "\n",
    "def compute_rce(pred, gt):\n",
    "    cross_entropy = log_loss(gt, pred)\n",
    "    data_ctr = calculate_ctr(gt)\n",
    "    strawman_cross_entropy = log_loss(gt, [data_ctr for _ in range(len(gt))])\n",
    "    return (1.0 - cross_entropy/strawman_cross_entropy)*100.0"
   ]
  },
  {
   "cell_type": "code",
   "execution_count": 28,
   "metadata": {},
   "outputs": [],
   "source": [
    "prauc_like = compute_prauc(pred_like, ratings_test['like_timestamp'].astype('int8'))\n",
    "prauc_reply = compute_prauc(pred_reply, ratings_test['reply_timestamp'].astype('int8'))\n",
    "prauc_retweet = compute_prauc(pred_retweet, ratings_test['retweet_timestamp'].astype('int8'))\n",
    "prauc_retweet_wc = compute_prauc(pred_retweet_wc, ratings_test['retweet_with_comment_timestamp'].astype('int8'))"
   ]
  },
  {
   "cell_type": "code",
   "execution_count": 29,
   "metadata": {},
   "outputs": [],
   "source": [
    "rce_like = compute_rce(pred_like, ratings_test['like_timestamp'].astype('int8'))\n",
    "rce_reply = compute_rce(pred_reply, ratings_test['reply_timestamp'].astype('int8'))\n",
    "rce_retweet = compute_rce(pred_retweet, ratings_test['retweet_timestamp'].astype('int8'))\n",
    "rce_retweet_wc = compute_rce(pred_retweet_wc, ratings_test['retweet_with_comment_timestamp'].astype('int8'))"
   ]
  },
  {
   "cell_type": "code",
   "execution_count": 30,
   "metadata": {},
   "outputs": [
    {
     "name": "stdout",
     "output_type": "stream",
     "text": [
      "0.7362612612612612\n",
      "0.5077027027027027\n",
      "0.5477477477477477\n",
      "0.503018018018018\n"
     ]
    }
   ],
   "source": [
    "print(prauc_like)\n",
    "print(prauc_reply)\n",
    "print(prauc_retweet)\n",
    "print(prauc_retweet_wc)"
   ]
  },
  {
   "cell_type": "code",
   "execution_count": 31,
   "metadata": {},
   "outputs": [
    {
     "name": "stdout",
     "output_type": "stream",
     "text": [
      "-2259.671908572321\n",
      "-568.6700624439948\n",
      "-946.8416397393288\n",
      "-465.56195860819827\n"
     ]
    }
   ],
   "source": [
    "print(rce_like)\n",
    "print(rce_reply)\n",
    "print(rce_retweet)\n",
    "print(rce_retweet_wc)"
   ]
  },
  {
   "cell_type": "code",
   "execution_count": 32,
   "metadata": {},
   "outputs": [
    {
     "data": {
      "text/plain": [
       "{0.0}"
      ]
     },
     "execution_count": 32,
     "metadata": {},
     "output_type": "execute_result"
    }
   ],
   "source": [
    "set(pred_retweet_wc)"
   ]
  },
  {
   "cell_type": "code",
   "execution_count": 33,
   "metadata": {},
   "outputs": [
    {
     "data": {
      "text/plain": [
       "{0.0}"
      ]
     },
     "execution_count": 33,
     "metadata": {},
     "output_type": "execute_result"
    }
   ],
   "source": [
    "set(pred_like)"
   ]
  },
  {
   "cell_type": "code",
   "execution_count": 34,
   "metadata": {},
   "outputs": [
    {
     "data": {
      "text/plain": [
       "{0.0}"
      ]
     },
     "execution_count": 34,
     "metadata": {},
     "output_type": "execute_result"
    }
   ],
   "source": [
    "set(pred_reply)"
   ]
  },
  {
   "cell_type": "code",
   "execution_count": 35,
   "metadata": {},
   "outputs": [
    {
     "data": {
      "text/plain": [
       "{0.0}"
      ]
     },
     "execution_count": 35,
     "metadata": {},
     "output_type": "execute_result"
    }
   ],
   "source": [
    "set(pred_retweet)"
   ]
  },
  {
   "cell_type": "code",
   "execution_count": null,
   "metadata": {},
   "outputs": [],
   "source": []
  }
 ],
 "metadata": {
  "kernelspec": {
   "display_name": "Python 3",
   "language": "python",
   "name": "python3"
  },
  "language_info": {
   "codemirror_mode": {
    "name": "ipython",
    "version": 3
   },
   "file_extension": ".py",
   "mimetype": "text/x-python",
   "name": "python",
   "nbconvert_exporter": "python",
   "pygments_lexer": "ipython3",
   "version": "3.7.6"
  }
 },
 "nbformat": 4,
 "nbformat_minor": 4
}
