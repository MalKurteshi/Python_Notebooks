{
 "cells": [
  {
   "cell_type": "markdown",
   "metadata": {},
   "source": [
    "## Import Libraries"
   ]
  },
  {
   "cell_type": "code",
   "execution_count": 1,
   "metadata": {},
   "outputs": [],
   "source": [
    "import pandas as pd\n",
    "import numpy as np\n",
    "import matplotlib.pyplot as plt\n",
    "import seaborn as sns\n",
    "import random\n",
    "import itertools\n",
    "import warnings\n",
    "from sklearn.model_selection import train_test_split\n",
    "from sklearn.preprocessing import StandardScaler\n",
    "from sklearn.linear_model import LogisticRegression\n",
    "\n",
    "\n",
    "from recsys_utils import recsys_load_training_df, recsys_evaluate, recsys_cv_split_single\n",
    "\n",
    "%matplotlib inline\n",
    "warnings.filterwarnings('ignore')"
   ]
  },
  {
   "cell_type": "markdown",
   "metadata": {},
   "source": [
    "## Define Helper Functions"
   ]
  },
  {
   "cell_type": "code",
   "execution_count": 2,
   "metadata": {},
   "outputs": [],
   "source": [
    "def replace_timestamp_with_probablity(data):\n",
    "    return np.where(np.isnat(data),0.0,1.0)"
   ]
  },
  {
   "cell_type": "markdown",
   "metadata": {},
   "source": [
    "## Load data"
   ]
  },
  {
   "cell_type": "code",
   "execution_count": 3,
   "metadata": {},
   "outputs": [],
   "source": [
    "df = recsys_load_training_df('./RecSys20/Data/training_sample.tsv')"
   ]
  },
  {
   "cell_type": "markdown",
   "metadata": {},
   "source": [
    "## Create new features"
   ]
  },
  {
   "cell_type": "markdown",
   "metadata": {},
   "source": [
    "# Create dummy variables for present media feature\n",
    "df = df.join(pd.get_dummies(df['present_media'].apply(pd.Series).stack()).sum(level=0))\n",
    "df[['GIF', 'Photo', 'Video']] = df[['GIF', 'Photo', 'Video']].fillna(0)\n",
    "df[['GIF', 'Photo', 'Video']] = df[['GIF', 'Photo', 'Video']].astype(int)\n",
    "df.rename(columns = {'GIF':'present_media_gif', 'Photo':'present_media_photo', 'Video':'present_media_video'}, inplace=True)\n",
    "\n",
    "# Create dummy variables for tweet type\n",
    "df = pd.concat([df, pd.get_dummies(df['tweet_type'], prefidf='tweet_type')], adfis=1)\n",
    "\n",
    "# Replace hashtags, present_links and present_domains with counts\n",
    "df['hashtags'] = df['hashtags'].str.len()\n",
    "df['present_links'] = df['present_links'].str.len()\n",
    "df['present_domains'] = df['present_domains'].str.len()\n",
    "df[['hashtags', 'present_links', 'present_domains']] = df[['hashtags', 'present_links', 'present_domains']].fillna(0)\n",
    "df[['hashtags', 'present_links', 'present_domains']] = df[['hashtags', 'present_links', 'present_domains']].astype(int)\n",
    "\n",
    "df.drop(columns=[], inplace=True)\n",
    "\n",
    "df.drop(columns=[\n",
    "    'tweet_type', \n",
    "    'present_media'\n",
    "], inplace=True)"
   ]
  },
  {
   "cell_type": "markdown",
   "metadata": {
    "scrolled": true
   },
   "source": [
    "## Model training"
   ]
  },
  {
   "cell_type": "code",
   "execution_count": 4,
   "metadata": {},
   "outputs": [],
   "source": [
    "### Logistic Regression"
   ]
  },
  {
   "cell_type": "code",
   "execution_count": 5,
   "metadata": {},
   "outputs": [],
   "source": [
    "def feature_preparation(df):\n",
    "    # Create dummy variables for present media feature\n",
    "    df = df.join(pd.get_dummies(df['present_media'].apply(pd.Series).stack()).sum(level=0))\n",
    "    df[['GIF', 'Photo', 'Video']] = df[['GIF', 'Photo', 'Video']].fillna(0)\n",
    "    df[['GIF', 'Photo', 'Video']] = df[['GIF', 'Photo', 'Video']].astype(int)\n",
    "    df.rename(columns = {'GIF':'present_media_gif', 'Photo':'present_media_photo', 'Video':'present_media_video'}, inplace=True)\n",
    "\n",
    "    # Create dummy variables for tweet type\n",
    "    df = pd.concat([df, pd.get_dummies(df['tweet_type'], prefix='tweet_type')], axis=1)\n",
    "\n",
    "    # Replace hashtags, present_links and present_domains with counts\n",
    "    df['hashtags'] = df['hashtags'].str.len()\n",
    "    df['present_links'] = df['present_links'].str.len()\n",
    "    df['present_domains'] = df['present_domains'].str.len()\n",
    "    df[['hashtags', 'present_links', 'present_domains']] = df[['hashtags', 'present_links', 'present_domains']].fillna(0)\n",
    "    df[['hashtags', 'present_links', 'present_domains']] = df[['hashtags', 'present_links', 'present_domains']].astype(int)\n",
    "\n",
    "    # Replace timestamps with classes\n",
    "    df['reply_prob'] = replace_timestamp_with_probablity(df['reply_timestamp'])\n",
    "    df['retweet_prob'] = replace_timestamp_with_probablity(df['retweet_timestamp'])\n",
    "    df['retweet_with_comment_prob'] = replace_timestamp_with_probablity(df['retweet_with_comment_timestamp'])\n",
    "    df['like_prob'] = replace_timestamp_with_probablity(df['like_timestamp'])\n",
    "\n",
    "    df.drop(columns=['reply_timestamp', 'retweet_timestamp', 'retweet_with_comment_timestamp', 'like_timestamp'], \n",
    "            inplace=True)\n",
    "\n",
    "    df.drop(columns=[\n",
    "        'tweet_type', \n",
    "        'present_media',\n",
    "        'text_tokens', \n",
    "        'tweet_id', \n",
    "        'language', \n",
    "        'tweet_timestamp', \n",
    "        'engaged_with_user_id',\n",
    "        'engaged_with_user_account_creation',\n",
    "        'engaging_user_id',\n",
    "        'engaging_user_account_creation'\n",
    "    ], inplace=True)\n",
    "    \n",
    "    return df"
   ]
  },
  {
   "cell_type": "code",
   "execution_count": 6,
   "metadata": {
    "scrolled": false
   },
   "outputs": [],
   "source": [
    "def recommender_train_predict(df_train, df_test):\n",
    "        \n",
    "    df_train_prepared = feature_preparation(df_train)\n",
    "    df_test_prepared = feature_preparation(df_test)\n",
    "    \n",
    "    y_train = df_train_prepared[['reply_prob', 'retweet_prob', 'retweet_with_comment_prob', 'like_prob']]\n",
    "    y_test = df_test_prepared[['reply_prob', 'retweet_prob', 'retweet_with_comment_prob', 'like_prob']]\n",
    "    \n",
    "    X_train = df_train_prepared.drop(columns=['reply_prob', 'retweet_prob', 'retweet_with_comment_prob', 'like_prob'])\n",
    "    X_test = df_test_prepared.drop(columns=['reply_prob', 'retweet_prob', 'retweet_with_comment_prob', 'like_prob'])\n",
    "\n",
    "    model_reply = LogisticRegression()\n",
    "    model_reply.fit(X_train,y_train['reply_prob'])\n",
    "    reply_pred = model_reply.predict(X_test)\n",
    "    \n",
    "    model_retweet = LogisticRegression()\n",
    "    model_retweet.fit(X_train,y_train['retweet_prob'])\n",
    "    retweet_pred = model_retweet.predict(X_test)\n",
    "    \n",
    "    model_retweet_wc = LogisticRegression()\n",
    "    model_retweet_wc.fit(X_train,y_train['retweet_with_comment_prob'])\n",
    "    retweet_wc_pred = model_retweet_wc.predict(X_test)\n",
    "    \n",
    "    model_like = LogisticRegression()\n",
    "    model_like.fit(X_train,y_train['like_prob'])\n",
    "    like_pred = model_like.predict(X_test)\n",
    "    \n",
    "    n = len(reply_pred)\n",
    "    \n",
    "    for i in range(0,n):\n",
    "        pred_reply = reply_pred[i]\n",
    "        pred_retweet = retweet_pred[i]\n",
    "        pred_retweet_wc = retweet_wc_pred[i]\n",
    "        pred_like = like_pred[i]\n",
    "        \n",
    "        yield pred_reply, pred_retweet, pred_retweet_wc, pred_like"
   ]
  },
  {
   "cell_type": "code",
   "execution_count": 7,
   "metadata": {},
   "outputs": [
    {
     "name": "stdout",
     "output_type": "stream",
     "text": [
      "Run RecSys recommender evaluation:\n",
      "> cv-split (single_random)\n",
      ".\n",
      "> cv-split (tweetid)\n",
      "..........\n",
      "> cv-split (userid)\n",
      "..........\n",
      "> cv-split (time)\n",
      "..........\n"
     ]
    }
   ],
   "source": [
    "df_results_plain = recsys_evaluate(df, recommender_train_predict, 'all')"
   ]
  },
  {
   "cell_type": "markdown",
   "metadata": {},
   "source": [
    "### Logistic Regression (with scaling)"
   ]
  },
  {
   "cell_type": "code",
   "execution_count": 8,
   "metadata": {},
   "outputs": [],
   "source": [
    "from sklearn.preprocessing import StandardScaler \n",
    "\n",
    "def logreg_preparation(df_train, df_test):\n",
    "    \n",
    "    df_train_prepared = feature_preparation(df_train)\n",
    "    df_test_prepared = feature_preparation(df_test)\n",
    "    \n",
    "    y_train = df_train_prepared[['reply_prob', 'retweet_prob', 'retweet_with_comment_prob', 'like_prob']]    \n",
    "    X_train = df_train_prepared.drop(columns=['reply_prob', 'retweet_prob', 'retweet_with_comment_prob', 'like_prob'])\n",
    "    X_test = df_test_prepared.drop(columns=['reply_prob', 'retweet_prob', 'retweet_with_comment_prob', 'like_prob'])\n",
    "\n",
    "    return X_train, X_test, y_train\n",
    "\n",
    "def logreg_model_building(X_train, y_train):\n",
    "    model_reply = LogisticRegression()\n",
    "    model_reply.fit(X_train,y_train['reply_prob'])\n",
    "    \n",
    "    model_retweet = LogisticRegression()\n",
    "    model_retweet.fit(X_train,y_train['retweet_prob'])\n",
    "    \n",
    "    model_retweet_wc = LogisticRegression()\n",
    "    model_retweet_wc.fit(X_train,y_train['retweet_with_comment_prob'])\n",
    "    \n",
    "    model_like = LogisticRegression()\n",
    "    model_like.fit(X_train,y_train['like_prob'])\n",
    "    \n",
    "    return model_reply, model_retweet, model_retweet_wc, model_like\n",
    "    \n",
    "def logreg_train_predict_ws(df_train, df_test):\n",
    "\n",
    "    X_train, X_test, y_train = logreg_preparation(df_train, df_test)\n",
    "    \n",
    "    scaler = StandardScaler()\n",
    "    X_train = scaler.fit_transform(X_train)  \n",
    "    X_test = scaler.transform(X_test)\n",
    "    \n",
    "    # build models for each interaction type\n",
    "    model_reply, model_retweet, model_retweet_wc, model_like = logreg_model_building(X_train, y_train)\n",
    "    # make predictions\n",
    "    reply_pred = model_reply.predict(X_test)\n",
    "    retweet_pred = model_retweet.predict(X_test)\n",
    "    retweet_wc_pred = model_retweet_wc.predict(X_test)\n",
    "    like_pred = model_like.predict(X_test)\n",
    "    \n",
    "    n = len(reply_pred)\n",
    "    \n",
    "    for i in range(0,n):\n",
    "        pred_reply = reply_pred[i]\n",
    "        pred_retweet = retweet_pred[i]\n",
    "        pred_retweet_wc = retweet_wc_pred[i]\n",
    "        pred_like = like_pred[i]\n",
    "        \n",
    "        yield pred_reply, pred_retweet, pred_retweet_wc, pred_like"
   ]
  },
  {
   "cell_type": "code",
   "execution_count": 9,
   "metadata": {},
   "outputs": [
    {
     "name": "stdout",
     "output_type": "stream",
     "text": [
      "Run RecSys recommender evaluation:\n",
      "> cv-split (single_random)\n",
      ".\n",
      "> cv-split (tweetid)\n",
      "..........\n",
      "> cv-split (userid)\n",
      "..........\n",
      "> cv-split (time)\n",
      "..........\n"
     ]
    }
   ],
   "source": [
    "df_results_scaled = recsys_evaluate(df, logreg_train_predict_ws, 'all')"
   ]
  },
  {
   "cell_type": "markdown",
   "metadata": {},
   "source": [
    "### Logistic Regression (C = 0.5)"
   ]
  },
  {
   "cell_type": "code",
   "execution_count": 10,
   "metadata": {},
   "outputs": [],
   "source": [
    "def logreg_model_building_c05(X_train, y_train):\n",
    "    model_reply = LogisticRegression(C=0.5)\n",
    "    model_reply.fit(X_train,y_train['reply_prob'])\n",
    "    \n",
    "    model_retweet = LogisticRegression(C=0.5)\n",
    "    model_retweet.fit(X_train,y_train['retweet_prob'])\n",
    "    \n",
    "    model_retweet_wc = LogisticRegression(C=0.5)\n",
    "    model_retweet_wc.fit(X_train,y_train['retweet_with_comment_prob'])\n",
    "    \n",
    "    model_like = LogisticRegression(C=0.5)\n",
    "    model_like.fit(X_train,y_train['like_prob'])\n",
    "    \n",
    "    return model_reply, model_retweet, model_retweet_wc, model_like\n",
    "\n",
    "def logreg_train_predict_ws_c05(df_train, df_test):\n",
    "\n",
    "    X_train, X_test, y_train = logreg_preparation(df_train, df_test)\n",
    "    \n",
    "    scaler = StandardScaler()\n",
    "    X_train = scaler.fit_transform(X_train)  \n",
    "    X_test = scaler.transform(X_test)\n",
    "    \n",
    "    # build models for each interaction type\n",
    "    model_reply, model_retweet, model_retweet_wc, model_like = logreg_model_building_c05(X_train, y_train)\n",
    "    # make predictions\n",
    "    reply_pred = model_reply.predict(X_test)\n",
    "    retweet_pred = model_retweet.predict(X_test)\n",
    "    retweet_wc_pred = model_retweet_wc.predict(X_test)\n",
    "    like_pred = model_like.predict(X_test)\n",
    "    \n",
    "    n = len(reply_pred)\n",
    "    \n",
    "    for i in range(0,n):\n",
    "        pred_reply = reply_pred[i]\n",
    "        pred_retweet = retweet_pred[i]\n",
    "        pred_retweet_wc = retweet_wc_pred[i]\n",
    "        pred_like = like_pred[i]\n",
    "        \n",
    "        yield pred_reply, pred_retweet, pred_retweet_wc, pred_like"
   ]
  },
  {
   "cell_type": "code",
   "execution_count": 11,
   "metadata": {},
   "outputs": [
    {
     "name": "stdout",
     "output_type": "stream",
     "text": [
      "Run RecSys recommender evaluation:\n",
      "> cv-split (single_random)\n",
      ".\n",
      "> cv-split (tweetid)\n",
      "..........\n",
      "> cv-split (userid)\n",
      "..........\n",
      "> cv-split (time)\n",
      "..........\n"
     ]
    }
   ],
   "source": [
    "df_results_scaled_c05 = recsys_evaluate(df, logreg_train_predict_ws_c05, 'all')"
   ]
  },
  {
   "cell_type": "markdown",
   "metadata": {},
   "source": [
    "### Logistic Regression (C=10)"
   ]
  },
  {
   "cell_type": "code",
   "execution_count": 12,
   "metadata": {},
   "outputs": [],
   "source": [
    "def logreg_model_building_c10(X_train, y_train):\n",
    "    model_reply = LogisticRegression(C=10.0)\n",
    "    model_reply.fit(X_train,y_train['reply_prob'])\n",
    "    \n",
    "    model_retweet = LogisticRegression(C=10.0)\n",
    "    model_retweet.fit(X_train,y_train['retweet_prob'])\n",
    "    \n",
    "    model_retweet_wc = LogisticRegression(C=10.0)\n",
    "    model_retweet_wc.fit(X_train,y_train['retweet_with_comment_prob'])\n",
    "    \n",
    "    model_like = LogisticRegression(C=10.0)\n",
    "    model_like.fit(X_train,y_train['like_prob'])\n",
    "    \n",
    "    return model_reply, model_retweet, model_retweet_wc, model_like\n",
    "\n",
    "def logreg_train_predict_ws_c10(df_train, df_test):\n",
    "\n",
    "    X_train, X_test, y_train = logreg_preparation(df_train, df_test)\n",
    "    \n",
    "    scaler = StandardScaler()\n",
    "    X_train = scaler.fit_transform(X_train)  \n",
    "    X_test = scaler.transform(X_test)\n",
    "    \n",
    "    # build models for each interaction type\n",
    "    model_reply, model_retweet, model_retweet_wc, model_like = logreg_model_building_c10(X_train, y_train)\n",
    "    # make predictions\n",
    "    reply_pred = model_reply.predict(X_test)\n",
    "    retweet_pred = model_retweet.predict(X_test)\n",
    "    retweet_wc_pred = model_retweet_wc.predict(X_test)\n",
    "    like_pred = model_like.predict(X_test)\n",
    "    \n",
    "    n = len(reply_pred)\n",
    "    \n",
    "    for i in range(0,n):\n",
    "        pred_reply = reply_pred[i]\n",
    "        pred_retweet = retweet_pred[i]\n",
    "        pred_retweet_wc = retweet_wc_pred[i]\n",
    "        pred_like = like_pred[i]\n",
    "        \n",
    "        yield pred_reply, pred_retweet, pred_retweet_wc, pred_like"
   ]
  },
  {
   "cell_type": "code",
   "execution_count": 13,
   "metadata": {
    "scrolled": true
   },
   "outputs": [
    {
     "name": "stdout",
     "output_type": "stream",
     "text": [
      "Run RecSys recommender evaluation:\n",
      "> cv-split (single_random)\n",
      ".\n",
      "> cv-split (tweetid)\n",
      "..........\n",
      "> cv-split (userid)\n",
      "..........\n",
      "> cv-split (time)\n",
      "..........\n"
     ]
    }
   ],
   "source": [
    "df_results_scaled_c10 = recsys_evaluate(df, logreg_train_predict_ws_c10, 'all')"
   ]
  },
  {
   "cell_type": "code",
   "execution_count": 14,
   "metadata": {},
   "outputs": [],
   "source": [
    "def logreg_model_building_c01(X_train, y_train):\n",
    "    model_reply = LogisticRegression(C=0.1)\n",
    "    model_reply.fit(X_train,y_train['reply_prob'])\n",
    "    \n",
    "    model_retweet = LogisticRegression(C=0.1)\n",
    "    model_retweet.fit(X_train,y_train['retweet_prob'])\n",
    "    \n",
    "    model_retweet_wc = LogisticRegression(C=0.1)\n",
    "    model_retweet_wc.fit(X_train,y_train['retweet_with_comment_prob'])\n",
    "    \n",
    "    model_like = LogisticRegression(C=0.1)\n",
    "    model_like.fit(X_train,y_train['like_prob'])\n",
    "    \n",
    "    return model_reply, model_retweet, model_retweet_wc, model_like\n",
    "\n",
    "def logreg_train_predict_ws_c01(df_train, df_test):\n",
    "\n",
    "    X_train, X_test, y_train = logreg_preparation(df_train, df_test)\n",
    "    \n",
    "    scaler = StandardScaler()\n",
    "    X_train = scaler.fit_transform(X_train)  \n",
    "    X_test = scaler.transform(X_test)\n",
    "    \n",
    "    # build models for each interaction type\n",
    "    model_reply, model_retweet, model_retweet_wc, model_like = logreg_model_building_c01(X_train, y_train)\n",
    "    # make predictions\n",
    "    reply_pred = model_reply.predict(X_test)\n",
    "    retweet_pred = model_retweet.predict(X_test)\n",
    "    retweet_wc_pred = model_retweet_wc.predict(X_test)\n",
    "    like_pred = model_like.predict(X_test)\n",
    "    \n",
    "    n = len(reply_pred)\n",
    "    \n",
    "    for i in range(0,n):\n",
    "        pred_reply = reply_pred[i]\n",
    "        pred_retweet = retweet_pred[i]\n",
    "        pred_retweet_wc = retweet_wc_pred[i]\n",
    "        pred_like = like_pred[i]\n",
    "        \n",
    "        yield pred_reply, pred_retweet, pred_retweet_wc, pred_like"
   ]
  },
  {
   "cell_type": "code",
   "execution_count": 15,
   "metadata": {
    "scrolled": true
   },
   "outputs": [
    {
     "name": "stdout",
     "output_type": "stream",
     "text": [
      "Run RecSys recommender evaluation:\n",
      "> cv-split (single_random)\n",
      ".\n",
      "> cv-split (tweetid)\n",
      "..........\n",
      "> cv-split (userid)\n",
      "..........\n",
      "> cv-split (time)\n",
      "..........\n"
     ]
    }
   ],
   "source": [
    "df_results_scaled_c01 = recsys_evaluate(df, logreg_train_predict_ws_c01, 'all')"
   ]
  },
  {
   "cell_type": "code",
   "execution_count": 16,
   "metadata": {},
   "outputs": [],
   "source": [
    "def logreg_model_building_c001(X_train, y_train):\n",
    "    model_reply = LogisticRegression(C=0.01)\n",
    "    model_reply.fit(X_train,y_train['reply_prob'])\n",
    "    \n",
    "    model_retweet = LogisticRegression(C=0.01)\n",
    "    model_retweet.fit(X_train,y_train['retweet_prob'])\n",
    "    \n",
    "    model_retweet_wc = LogisticRegression(C=0.01)\n",
    "    model_retweet_wc.fit(X_train,y_train['retweet_with_comment_prob'])\n",
    "    \n",
    "    model_like = LogisticRegression(C=0.01)\n",
    "    model_like.fit(X_train,y_train['like_prob'])\n",
    "    \n",
    "    return model_reply, model_retweet, model_retweet_wc, model_like\n",
    "\n",
    "def logreg_train_predict_ws_c001(df_train, df_test):\n",
    "\n",
    "    X_train, X_test, y_train = logreg_preparation(df_train, df_test)\n",
    "    \n",
    "    scaler = StandardScaler()\n",
    "    X_train = scaler.fit_transform(X_train)  \n",
    "    X_test = scaler.transform(X_test)\n",
    "    \n",
    "    # build models for each interaction type\n",
    "    model_reply, model_retweet, model_retweet_wc, model_like = logreg_model_building_c001(X_train, y_train)\n",
    "    # make predictions\n",
    "    reply_pred = model_reply.predict(X_test)\n",
    "    retweet_pred = model_retweet.predict(X_test)\n",
    "    retweet_wc_pred = model_retweet_wc.predict(X_test)\n",
    "    like_pred = model_like.predict(X_test)\n",
    "    \n",
    "    n = len(reply_pred)\n",
    "    \n",
    "    for i in range(0,n):\n",
    "        pred_reply = reply_pred[i]\n",
    "        pred_retweet = retweet_pred[i]\n",
    "        pred_retweet_wc = retweet_wc_pred[i]\n",
    "        pred_like = like_pred[i]\n",
    "        \n",
    "        yield pred_reply, pred_retweet, pred_retweet_wc, pred_like"
   ]
  },
  {
   "cell_type": "code",
   "execution_count": 17,
   "metadata": {
    "scrolled": true
   },
   "outputs": [
    {
     "name": "stdout",
     "output_type": "stream",
     "text": [
      "Run RecSys recommender evaluation:\n",
      "> cv-split (single_random)\n",
      ".\n",
      "> cv-split (tweetid)\n",
      "..........\n",
      "> cv-split (userid)\n",
      "..........\n",
      "> cv-split (time)\n",
      "..........\n"
     ]
    }
   ],
   "source": [
    "df_results_scaled_c001 = recsys_evaluate(df, logreg_train_predict_ws_c001, 'all')"
   ]
  },
  {
   "cell_type": "code",
   "execution_count": 18,
   "metadata": {},
   "outputs": [
    {
     "data": {
      "text/html": [
       "<div>\n",
       "<style scoped>\n",
       "    .dataframe tbody tr th:only-of-type {\n",
       "        vertical-align: middle;\n",
       "    }\n",
       "\n",
       "    .dataframe tbody tr th {\n",
       "        vertical-align: top;\n",
       "    }\n",
       "\n",
       "    .dataframe thead th {\n",
       "        text-align: right;\n",
       "    }\n",
       "</style>\n",
       "<table border=\"1\" class=\"dataframe\">\n",
       "  <thead>\n",
       "    <tr style=\"text-align: right;\">\n",
       "      <th></th>\n",
       "      <th>PRAUC(like)</th>\n",
       "      <th>PRAUC(reply)</th>\n",
       "      <th>PRAUC(retweet)</th>\n",
       "      <th>PRAUC(retweet_wc)</th>\n",
       "    </tr>\n",
       "    <tr>\n",
       "      <th>split_type</th>\n",
       "      <th></th>\n",
       "      <th></th>\n",
       "      <th></th>\n",
       "      <th></th>\n",
       "    </tr>\n",
       "  </thead>\n",
       "  <tbody>\n",
       "    <tr>\n",
       "      <th>single_random</th>\n",
       "      <td>0.636793</td>\n",
       "      <td>0.513122</td>\n",
       "      <td>0.557537</td>\n",
       "      <td>0.503701</td>\n",
       "    </tr>\n",
       "    <tr>\n",
       "      <th>tweetid</th>\n",
       "      <td>0.652951</td>\n",
       "      <td>0.512665</td>\n",
       "      <td>0.558783</td>\n",
       "      <td>0.503701</td>\n",
       "    </tr>\n",
       "    <tr>\n",
       "      <th>userid</th>\n",
       "      <td>0.648163</td>\n",
       "      <td>0.512648</td>\n",
       "      <td>0.558577</td>\n",
       "      <td>0.503689</td>\n",
       "    </tr>\n",
       "    <tr>\n",
       "      <th>time</th>\n",
       "      <td>0.640275</td>\n",
       "      <td>0.512384</td>\n",
       "      <td>0.558608</td>\n",
       "      <td>0.503610</td>\n",
       "    </tr>\n",
       "  </tbody>\n",
       "</table>\n",
       "</div>"
      ],
      "text/plain": [
       "               PRAUC(like)  PRAUC(reply)  PRAUC(retweet)  PRAUC(retweet_wc)\n",
       "split_type                                                                 \n",
       "single_random     0.636793      0.513122        0.557537           0.503701\n",
       "tweetid           0.652951      0.512665        0.558783           0.503701\n",
       "userid            0.648163      0.512648        0.558577           0.503689\n",
       "time              0.640275      0.512384        0.558608           0.503610"
      ]
     },
     "execution_count": 18,
     "metadata": {},
     "output_type": "execute_result"
    }
   ],
   "source": [
    "# Results without scaling, C=1.0\n",
    "df_results_plain"
   ]
  },
  {
   "cell_type": "code",
   "execution_count": 19,
   "metadata": {},
   "outputs": [
    {
     "data": {
      "text/html": [
       "<div>\n",
       "<style scoped>\n",
       "    .dataframe tbody tr th:only-of-type {\n",
       "        vertical-align: middle;\n",
       "    }\n",
       "\n",
       "    .dataframe tbody tr th {\n",
       "        vertical-align: top;\n",
       "    }\n",
       "\n",
       "    .dataframe thead th {\n",
       "        text-align: right;\n",
       "    }\n",
       "</style>\n",
       "<table border=\"1\" class=\"dataframe\">\n",
       "  <thead>\n",
       "    <tr style=\"text-align: right;\">\n",
       "      <th></th>\n",
       "      <th>PRAUC(like)</th>\n",
       "      <th>PRAUC(reply)</th>\n",
       "      <th>PRAUC(retweet)</th>\n",
       "      <th>PRAUC(retweet_wc)</th>\n",
       "    </tr>\n",
       "    <tr>\n",
       "      <th>split_type</th>\n",
       "      <th></th>\n",
       "      <th></th>\n",
       "      <th></th>\n",
       "      <th></th>\n",
       "    </tr>\n",
       "  </thead>\n",
       "  <tbody>\n",
       "    <tr>\n",
       "      <th>single_random</th>\n",
       "      <td>0.665161</td>\n",
       "      <td>0.513122</td>\n",
       "      <td>0.558184</td>\n",
       "      <td>0.503701</td>\n",
       "    </tr>\n",
       "    <tr>\n",
       "      <th>tweetid</th>\n",
       "      <td>0.667883</td>\n",
       "      <td>0.512670</td>\n",
       "      <td>0.184291</td>\n",
       "      <td>0.503702</td>\n",
       "    </tr>\n",
       "    <tr>\n",
       "      <th>userid</th>\n",
       "      <td>0.668312</td>\n",
       "      <td>0.512660</td>\n",
       "      <td>0.302348</td>\n",
       "      <td>0.453715</td>\n",
       "    </tr>\n",
       "    <tr>\n",
       "      <th>time</th>\n",
       "      <td>0.667762</td>\n",
       "      <td>0.512384</td>\n",
       "      <td>0.167484</td>\n",
       "      <td>0.453610</td>\n",
       "    </tr>\n",
       "  </tbody>\n",
       "</table>\n",
       "</div>"
      ],
      "text/plain": [
       "               PRAUC(like)  PRAUC(reply)  PRAUC(retweet)  PRAUC(retweet_wc)\n",
       "split_type                                                                 \n",
       "single_random     0.665161      0.513122        0.558184           0.503701\n",
       "tweetid           0.667883      0.512670        0.184291           0.503702\n",
       "userid            0.668312      0.512660        0.302348           0.453715\n",
       "time              0.667762      0.512384        0.167484           0.453610"
      ]
     },
     "execution_count": 19,
     "metadata": {},
     "output_type": "execute_result"
    }
   ],
   "source": [
    "# Results with scaling, C=1.0\n",
    "df_results_scaled"
   ]
  },
  {
   "cell_type": "code",
   "execution_count": 20,
   "metadata": {},
   "outputs": [
    {
     "data": {
      "text/html": [
       "<div>\n",
       "<style scoped>\n",
       "    .dataframe tbody tr th:only-of-type {\n",
       "        vertical-align: middle;\n",
       "    }\n",
       "\n",
       "    .dataframe tbody tr th {\n",
       "        vertical-align: top;\n",
       "    }\n",
       "\n",
       "    .dataframe thead th {\n",
       "        text-align: right;\n",
       "    }\n",
       "</style>\n",
       "<table border=\"1\" class=\"dataframe\">\n",
       "  <thead>\n",
       "    <tr style=\"text-align: right;\">\n",
       "      <th></th>\n",
       "      <th>PRAUC(like)</th>\n",
       "      <th>PRAUC(reply)</th>\n",
       "      <th>PRAUC(retweet)</th>\n",
       "      <th>PRAUC(retweet_wc)</th>\n",
       "    </tr>\n",
       "    <tr>\n",
       "      <th>split_type</th>\n",
       "      <th></th>\n",
       "      <th></th>\n",
       "      <th></th>\n",
       "      <th></th>\n",
       "    </tr>\n",
       "  </thead>\n",
       "  <tbody>\n",
       "    <tr>\n",
       "      <th>single_random</th>\n",
       "      <td>0.665161</td>\n",
       "      <td>0.513122</td>\n",
       "      <td>0.558184</td>\n",
       "      <td>0.503701</td>\n",
       "    </tr>\n",
       "    <tr>\n",
       "      <th>tweetid</th>\n",
       "      <td>0.667783</td>\n",
       "      <td>0.512669</td>\n",
       "      <td>0.171784</td>\n",
       "      <td>0.503702</td>\n",
       "    </tr>\n",
       "    <tr>\n",
       "      <th>userid</th>\n",
       "      <td>0.667058</td>\n",
       "      <td>0.512695</td>\n",
       "      <td>0.345075</td>\n",
       "      <td>0.453707</td>\n",
       "    </tr>\n",
       "    <tr>\n",
       "      <th>time</th>\n",
       "      <td>0.667786</td>\n",
       "      <td>0.512384</td>\n",
       "      <td>0.167484</td>\n",
       "      <td>0.403610</td>\n",
       "    </tr>\n",
       "  </tbody>\n",
       "</table>\n",
       "</div>"
      ],
      "text/plain": [
       "               PRAUC(like)  PRAUC(reply)  PRAUC(retweet)  PRAUC(retweet_wc)\n",
       "split_type                                                                 \n",
       "single_random     0.665161      0.513122        0.558184           0.503701\n",
       "tweetid           0.667783      0.512669        0.171784           0.503702\n",
       "userid            0.667058      0.512695        0.345075           0.453707\n",
       "time              0.667786      0.512384        0.167484           0.403610"
      ]
     },
     "execution_count": 20,
     "metadata": {},
     "output_type": "execute_result"
    }
   ],
   "source": [
    "# Results with scaling, C=10.0\n",
    "df_results_scaled_c10"
   ]
  },
  {
   "cell_type": "code",
   "execution_count": 21,
   "metadata": {},
   "outputs": [
    {
     "data": {
      "text/html": [
       "<div>\n",
       "<style scoped>\n",
       "    .dataframe tbody tr th:only-of-type {\n",
       "        vertical-align: middle;\n",
       "    }\n",
       "\n",
       "    .dataframe tbody tr th {\n",
       "        vertical-align: top;\n",
       "    }\n",
       "\n",
       "    .dataframe thead th {\n",
       "        text-align: right;\n",
       "    }\n",
       "</style>\n",
       "<table border=\"1\" class=\"dataframe\">\n",
       "  <thead>\n",
       "    <tr style=\"text-align: right;\">\n",
       "      <th></th>\n",
       "      <th>PRAUC(like)</th>\n",
       "      <th>PRAUC(reply)</th>\n",
       "      <th>PRAUC(retweet)</th>\n",
       "      <th>PRAUC(retweet_wc)</th>\n",
       "    </tr>\n",
       "    <tr>\n",
       "      <th>split_type</th>\n",
       "      <th></th>\n",
       "      <th></th>\n",
       "      <th></th>\n",
       "      <th></th>\n",
       "    </tr>\n",
       "  </thead>\n",
       "  <tbody>\n",
       "    <tr>\n",
       "      <th>single_random</th>\n",
       "      <td>0.665161</td>\n",
       "      <td>0.513122</td>\n",
       "      <td>0.558184</td>\n",
       "      <td>0.503701</td>\n",
       "    </tr>\n",
       "    <tr>\n",
       "      <th>tweetid</th>\n",
       "      <td>0.668487</td>\n",
       "      <td>0.512670</td>\n",
       "      <td>0.150141</td>\n",
       "      <td>0.503701</td>\n",
       "    </tr>\n",
       "    <tr>\n",
       "      <th>userid</th>\n",
       "      <td>0.667754</td>\n",
       "      <td>0.512662</td>\n",
       "      <td>0.270939</td>\n",
       "      <td>0.453717</td>\n",
       "    </tr>\n",
       "    <tr>\n",
       "      <th>time</th>\n",
       "      <td>0.667822</td>\n",
       "      <td>0.512384</td>\n",
       "      <td>0.167484</td>\n",
       "      <td>0.453610</td>\n",
       "    </tr>\n",
       "  </tbody>\n",
       "</table>\n",
       "</div>"
      ],
      "text/plain": [
       "               PRAUC(like)  PRAUC(reply)  PRAUC(retweet)  PRAUC(retweet_wc)\n",
       "split_type                                                                 \n",
       "single_random     0.665161      0.513122        0.558184           0.503701\n",
       "tweetid           0.668487      0.512670        0.150141           0.503701\n",
       "userid            0.667754      0.512662        0.270939           0.453717\n",
       "time              0.667822      0.512384        0.167484           0.453610"
      ]
     },
     "execution_count": 21,
     "metadata": {},
     "output_type": "execute_result"
    }
   ],
   "source": [
    "# Results with scaling, C=0.5\n",
    "df_results_scaled_c05"
   ]
  },
  {
   "cell_type": "code",
   "execution_count": 22,
   "metadata": {},
   "outputs": [
    {
     "data": {
      "text/html": [
       "<div>\n",
       "<style scoped>\n",
       "    .dataframe tbody tr th:only-of-type {\n",
       "        vertical-align: middle;\n",
       "    }\n",
       "\n",
       "    .dataframe tbody tr th {\n",
       "        vertical-align: top;\n",
       "    }\n",
       "\n",
       "    .dataframe thead th {\n",
       "        text-align: right;\n",
       "    }\n",
       "</style>\n",
       "<table border=\"1\" class=\"dataframe\">\n",
       "  <thead>\n",
       "    <tr style=\"text-align: right;\">\n",
       "      <th></th>\n",
       "      <th>PRAUC(like)</th>\n",
       "      <th>PRAUC(reply)</th>\n",
       "      <th>PRAUC(retweet)</th>\n",
       "      <th>PRAUC(retweet_wc)</th>\n",
       "    </tr>\n",
       "    <tr>\n",
       "      <th>split_type</th>\n",
       "      <th></th>\n",
       "      <th></th>\n",
       "      <th></th>\n",
       "      <th></th>\n",
       "    </tr>\n",
       "  </thead>\n",
       "  <tbody>\n",
       "    <tr>\n",
       "      <th>single_random</th>\n",
       "      <td>0.665048</td>\n",
       "      <td>0.513122</td>\n",
       "      <td>0.558184</td>\n",
       "      <td>0.503701</td>\n",
       "    </tr>\n",
       "    <tr>\n",
       "      <th>tweetid</th>\n",
       "      <td>0.668342</td>\n",
       "      <td>0.512669</td>\n",
       "      <td>0.169310</td>\n",
       "      <td>0.503701</td>\n",
       "    </tr>\n",
       "    <tr>\n",
       "      <th>userid</th>\n",
       "      <td>0.667059</td>\n",
       "      <td>0.512653</td>\n",
       "      <td>0.243049</td>\n",
       "      <td>0.453715</td>\n",
       "    </tr>\n",
       "    <tr>\n",
       "      <th>time</th>\n",
       "      <td>0.667651</td>\n",
       "      <td>0.512384</td>\n",
       "      <td>0.167484</td>\n",
       "      <td>0.453610</td>\n",
       "    </tr>\n",
       "  </tbody>\n",
       "</table>\n",
       "</div>"
      ],
      "text/plain": [
       "               PRAUC(like)  PRAUC(reply)  PRAUC(retweet)  PRAUC(retweet_wc)\n",
       "split_type                                                                 \n",
       "single_random     0.665048      0.513122        0.558184           0.503701\n",
       "tweetid           0.668342      0.512669        0.169310           0.503701\n",
       "userid            0.667059      0.512653        0.243049           0.453715\n",
       "time              0.667651      0.512384        0.167484           0.453610"
      ]
     },
     "execution_count": 22,
     "metadata": {},
     "output_type": "execute_result"
    }
   ],
   "source": [
    "# Results with scaling, C=0.1\n",
    "df_results_scaled_c01"
   ]
  },
  {
   "cell_type": "code",
   "execution_count": 23,
   "metadata": {},
   "outputs": [
    {
     "data": {
      "text/html": [
       "<div>\n",
       "<style scoped>\n",
       "    .dataframe tbody tr th:only-of-type {\n",
       "        vertical-align: middle;\n",
       "    }\n",
       "\n",
       "    .dataframe tbody tr th {\n",
       "        vertical-align: top;\n",
       "    }\n",
       "\n",
       "    .dataframe thead th {\n",
       "        text-align: right;\n",
       "    }\n",
       "</style>\n",
       "<table border=\"1\" class=\"dataframe\">\n",
       "  <thead>\n",
       "    <tr style=\"text-align: right;\">\n",
       "      <th></th>\n",
       "      <th>PRAUC(like)</th>\n",
       "      <th>PRAUC(reply)</th>\n",
       "      <th>PRAUC(retweet)</th>\n",
       "      <th>PRAUC(retweet_wc)</th>\n",
       "    </tr>\n",
       "    <tr>\n",
       "      <th>split_type</th>\n",
       "      <th></th>\n",
       "      <th></th>\n",
       "      <th></th>\n",
       "      <th></th>\n",
       "    </tr>\n",
       "  </thead>\n",
       "  <tbody>\n",
       "    <tr>\n",
       "      <th>single_random</th>\n",
       "      <td>0.665854</td>\n",
       "      <td>0.513122</td>\n",
       "      <td>0.558184</td>\n",
       "      <td>0.503701</td>\n",
       "    </tr>\n",
       "    <tr>\n",
       "      <th>tweetid</th>\n",
       "      <td>0.668334</td>\n",
       "      <td>0.512669</td>\n",
       "      <td>0.131800</td>\n",
       "      <td>0.503702</td>\n",
       "    </tr>\n",
       "    <tr>\n",
       "      <th>userid</th>\n",
       "      <td>0.667017</td>\n",
       "      <td>0.512663</td>\n",
       "      <td>0.302508</td>\n",
       "      <td>0.453699</td>\n",
       "    </tr>\n",
       "    <tr>\n",
       "      <th>time</th>\n",
       "      <td>0.668234</td>\n",
       "      <td>0.512384</td>\n",
       "      <td>0.217484</td>\n",
       "      <td>0.453610</td>\n",
       "    </tr>\n",
       "  </tbody>\n",
       "</table>\n",
       "</div>"
      ],
      "text/plain": [
       "               PRAUC(like)  PRAUC(reply)  PRAUC(retweet)  PRAUC(retweet_wc)\n",
       "split_type                                                                 \n",
       "single_random     0.665854      0.513122        0.558184           0.503701\n",
       "tweetid           0.668334      0.512669        0.131800           0.503702\n",
       "userid            0.667017      0.512663        0.302508           0.453699\n",
       "time              0.668234      0.512384        0.217484           0.453610"
      ]
     },
     "execution_count": 23,
     "metadata": {},
     "output_type": "execute_result"
    }
   ],
   "source": [
    "# Results with scaling, C=0.01\n",
    "df_results_scaled_c001"
   ]
  },
  {
   "cell_type": "code",
   "execution_count": null,
   "metadata": {},
   "outputs": [],
   "source": []
  }
 ],
 "metadata": {
  "kernelspec": {
   "display_name": "Python 3",
   "language": "python",
   "name": "python3"
  },
  "language_info": {
   "codemirror_mode": {
    "name": "ipython",
    "version": 3
   },
   "file_extension": ".py",
   "mimetype": "text/x-python",
   "name": "python",
   "nbconvert_exporter": "python",
   "pygments_lexer": "ipython3",
   "version": "3.7.5"
  }
 },
 "nbformat": 4,
 "nbformat_minor": 2
}
